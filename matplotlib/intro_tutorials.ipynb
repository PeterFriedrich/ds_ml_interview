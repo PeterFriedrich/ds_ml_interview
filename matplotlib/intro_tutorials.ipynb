{
 "cells": [
  {
   "cell_type": "markdown",
   "id": "97ffb517-776d-4a62-a0f3-072ddf267728",
   "metadata": {},
   "source": [
    "#### Intro Tutorials Review\n",
    "Summary points from the matplotlib [intro tutorials](https://matplotlib.org/stable/tutorials/index.html)."
   ]
  },
  {
   "cell_type": "code",
   "execution_count": 1,
   "id": "d65980ce-28ec-4001-a74e-ad5739a69e15",
   "metadata": {},
   "outputs": [],
   "source": [
    "import matplotlib as pyplot"
   ]
  },
  {
   "cell_type": "code",
   "execution_count": null,
   "id": "ac85bd77-e95e-408a-9a98-0df30960bbd0",
   "metadata": {},
   "outputs": [],
   "source": []
  }
 ],
 "metadata": {
  "kernelspec": {
   "display_name": "driq-omdena",
   "language": "python",
   "name": "driq-omdena"
  },
  "language_info": {
   "codemirror_mode": {
    "name": "ipython",
    "version": 3
   },
   "file_extension": ".py",
   "mimetype": "text/x-python",
   "name": "python",
   "nbconvert_exporter": "python",
   "pygments_lexer": "ipython3",
   "version": "3.10.4"
  }
 },
 "nbformat": 4,
 "nbformat_minor": 5
}
